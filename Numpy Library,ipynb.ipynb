{
 "cells": [
  {
   "cell_type": "markdown",
   "id": "1b060a06",
   "metadata": {},
   "source": [
    "# Libraries for Data Analysis in python\n",
    "## Library means <span style=\"color:green\">already written codes of people.<span>\n",
    "\n",
    "***Libraries for <font color='red'>data analysis</font> in python that  we are going to discuss are given below:***\n",
    "\n",
    "### 1.  Numpy\n",
    "### 2. Pandas\n",
    "### 3. Matplotlib\n",
    "### 4. Seaborn\n"
   ]
  },
  {
   "cell_type": "markdown",
   "id": "c855bf1c",
   "metadata": {},
   "source": [
    "# Importing Liraries\n",
    "## Import <font color='red'>numpy</font> as <span style=\"color:green\">np<span>  \n",
    "    # to import complete library\n",
    "**from <font color='red'>numpy</font> import <span style=\"color:green\">arange<span>**  \n",
    "    \n",
    "    # to import a specific function from a library       \n"
   ]
  },
  {
   "cell_type": "markdown",
   "id": "155ecf04",
   "metadata": {},
   "source": [
    "# Numpy\n",
    "**<span style=\"color:green\">  it mainly deals with array processing , matrices and mathematical operations. <span>**\n",
    "#### it is also a universal standard for working with numerical data in python.\n"
   ]
  },
  {
   "cell_type": "markdown",
   "id": "57cf7afd",
   "metadata": {},
   "source": [
    "# Creating <font color='blue'>array</font> using numpy"
   ]
  },
  {
   "cell_type": "code",
   "execution_count": 2,
   "id": "70c758bd",
   "metadata": {},
   "outputs": [
    {
     "data": {
      "text/plain": [
       "array([ 2,  4,  6,  8, 10])"
      ]
     },
     "execution_count": 2,
     "metadata": {},
     "output_type": "execute_result"
    }
   ],
   "source": [
    "import numpy as np\n",
    "\n",
    "np.array([2,4,6,8,10])       #  Creating an array by using numpy library"
   ]
  },
  {
   "cell_type": "code",
   "execution_count": 3,
   "id": "7944380e",
   "metadata": {},
   "outputs": [
    {
     "data": {
      "text/plain": [
       "array([ 2,  4,  6,  8, 10, 12, 14, 16, 18, 20])"
      ]
     },
     "execution_count": 3,
     "metadata": {},
     "output_type": "execute_result"
    }
   ],
   "source": [
    "arr_1 = np.array([2,4,6,8,10,12,14,16,18,20]) # storing array in a variable\n",
    "arr_1"
   ]
  },
  {
   "cell_type": "code",
   "execution_count": 4,
   "id": "8fc7fc09",
   "metadata": {},
   "outputs": [
    {
     "data": {
      "text/plain": [
       "numpy.ndarray"
      ]
     },
     "execution_count": 4,
     "metadata": {},
     "output_type": "execute_result"
    }
   ],
   "source": [
    "type(arr_1)      # to find the type of array stored in variable in output nd means n-dimension."
   ]
  },
  {
   "cell_type": "code",
   "execution_count": 5,
   "id": "57a2121b",
   "metadata": {},
   "outputs": [
    {
     "data": {
      "text/plain": [
       "builtin_function_or_method"
      ]
     },
     "execution_count": 5,
     "metadata": {},
     "output_type": "execute_result"
    }
   ],
   "source": [
    "type(np.array)     #builtin_function_or_method object is not subscriptable is a “typeerror” that occurs when you try to call a built-in function the wrong way."
   ]
  },
  {
   "cell_type": "raw",
   "id": "73b1965e",
   "metadata": {},
   "source": []
  },
  {
   "cell_type": "markdown",
   "id": "c6e08cd2",
   "metadata": {},
   "source": [
    "# Dimensions of an array\n",
    "[1,2,3,4,5]\n",
    "\n",
    "Array that has multiple columns and a single row is called <span style=\"color:green\"> one dimensional array<span>.\n",
    "    \n",
    "[[1,2,3,4,5],[6,7,8,9,10],[11,12,13,14,15]]\n",
    "    \n",
    "Array that has multiple columns and multiple rows is called  <font color='red'>two dimensional array</font>.\n",
    "    \n",
    ">**A <font color='green'>Vector</font> is a single dimensional array.**\n",
    "    \n",
    ">**Array with two dimensions is also called <font color='red'>Matrix</font>.**\n",
    "    \n",
    ">**3-array or higher than 3-d arrays are commonly called <span style=\"color:green\"> Tensor <span>.**\n",
    "    \n",
    ">**<font color='red'>Axis</font> is also known as dimension.**\n",
    "    \n",
    ">**Length of an array is the number of data points.**\n",
    "    "
   ]
  },
  {
   "cell_type": "markdown",
   "id": "2ac8feb8",
   "metadata": {},
   "source": [
    "\n",
    "# One Dimensional Array"
   ]
  },
  {
   "cell_type": "code",
   "execution_count": 63,
   "id": "c8d2d549",
   "metadata": {},
   "outputs": [
    {
     "data": {
      "text/html": [
       "<img src onerror=\"var cell = this.closest('.jp-CodeCell');var editor = cell.querySelector('.jp-Editor');editor.style.background='#90ee90';this.parentNode.removeChild(this)\" style=\"display:none\">"
      ],
      "text/plain": [
       "<IPython.core.display.HTML object>"
      ]
     },
     "metadata": {},
     "output_type": "display_data"
    },
    {
     "data": {
      "text/plain": [
       "array([ 2,  4,  6,  8, 10, 12, 14, 16, 18, 20])"
      ]
     },
     "execution_count": 63,
     "metadata": {},
     "output_type": "execute_result"
    }
   ],
   "source": [
    "arr_1 = np.array([2,4,6,8,10,12,14,16,18,20])\n",
    "arr_1"
   ]
  },
  {
   "cell_type": "code",
   "execution_count": 8,
   "id": "7aef6ed4",
   "metadata": {},
   "outputs": [
    {
     "data": {
      "text/plain": [
       "numpy.ndarray"
      ]
     },
     "execution_count": 8,
     "metadata": {},
     "output_type": "execute_result"
    }
   ],
   "source": [
    "type(arr_1)            # By this we can check the type of an array."
   ]
  },
  {
   "cell_type": "code",
   "execution_count": 11,
   "id": "5d6747fc",
   "metadata": {},
   "outputs": [
    {
     "data": {
      "text/plain": [
       "array([1., 1., 1., 1., 1., 1., 1., 1., 1., 1.])"
      ]
     },
     "execution_count": 11,
     "metadata": {},
     "output_type": "execute_result"
    }
   ],
   "source": [
    "ones = np.ones(10)      # by this you can write no. zeros of your choice.\n",
    "ones"
   ]
  },
  {
   "cell_type": "code",
   "execution_count": 38,
   "id": "e58a5cc3",
   "metadata": {},
   "outputs": [
    {
     "data": {
      "text/plain": [
       "array([0., 0., 0., 0., 0., 0.])"
      ]
     },
     "execution_count": 38,
     "metadata": {},
     "output_type": "execute_result"
    }
   ],
   "source": [
    "zeros = np.zeros(6)     # by this you can write no. zeros of your choice.\n",
    "zeros"
   ]
  },
  {
   "cell_type": "markdown",
   "id": "906460f0",
   "metadata": {},
   "source": [
    "### Default data type is floating points.\n",
    "### For Specifying data type of data points."
   ]
  },
  {
   "cell_type": "code",
   "execution_count": 39,
   "id": "f2699d80",
   "metadata": {},
   "outputs": [
    {
     "data": {
      "text/plain": [
       "array([1, 1, 1, 1, 1], dtype=int64)"
      ]
     },
     "execution_count": 39,
     "metadata": {},
     "output_type": "execute_result"
    }
   ],
   "source": [
    "np.ones(5,dtype = np.int64)"
   ]
  },
  {
   "cell_type": "code",
   "execution_count": 10,
   "id": "53b267a5",
   "metadata": {},
   "outputs": [
    {
     "data": {
      "text/plain": [
       "1"
      ]
     },
     "execution_count": 10,
     "metadata": {},
     "output_type": "execute_result"
    }
   ],
   "source": [
    "arr_1.ndim             # its use to identify dimension of array."
   ]
  },
  {
   "cell_type": "code",
   "execution_count": 13,
   "id": "1d599f46",
   "metadata": {},
   "outputs": [
    {
     "data": {
      "text/plain": [
       "(10,)"
      ]
     },
     "execution_count": 13,
     "metadata": {},
     "output_type": "execute_result"
    }
   ],
   "source": [
    "arr_1.shape             # tells no of values in the arrays     &     also it means ROWS INTO COLUMNS."
   ]
  },
  {
   "cell_type": "code",
   "execution_count": 14,
   "id": "1e5623a7",
   "metadata": {},
   "outputs": [
    {
     "data": {
      "text/plain": [
       "10"
      ]
     },
     "execution_count": 14,
     "metadata": {},
     "output_type": "execute_result"
    }
   ],
   "source": [
    "arr_1.size               # it also tells the no of values in the arrays."
   ]
  },
  {
   "cell_type": "code",
   "execution_count": 15,
   "id": "81f513a3",
   "metadata": {},
   "outputs": [
    {
     "data": {
      "text/plain": [
       "33.0"
      ]
     },
     "execution_count": 15,
     "metadata": {},
     "output_type": "execute_result"
    }
   ],
   "source": [
    "np.var(arr_1)           # calculate variance of a numpy  array."
   ]
  },
  {
   "cell_type": "code",
   "execution_count": 16,
   "id": "b9781954",
   "metadata": {},
   "outputs": [
    {
     "data": {
      "text/plain": [
       "array([2, 2, 2, 2, 2, 2, 2, 2, 2])"
      ]
     },
     "execution_count": 16,
     "metadata": {},
     "output_type": "execute_result"
    }
   ],
   "source": [
    "np.diff(arr_1)          # calculate the difference between subsequents values of numpy array."
   ]
  },
  {
   "cell_type": "code",
   "execution_count": 17,
   "id": "8d9594f5",
   "metadata": {},
   "outputs": [
    {
     "data": {
      "text/plain": [
       "5.744562646538029"
      ]
     },
     "execution_count": 17,
     "metadata": {},
     "output_type": "execute_result"
    }
   ],
   "source": [
    "np.std(arr_1)           # calculate the standard daviation of numpy array."
   ]
  },
  {
   "cell_type": "code",
   "execution_count": 18,
   "id": "8c86fd93",
   "metadata": {},
   "outputs": [
    {
     "data": {
      "text/plain": [
       "array([  2,   6,  12,  20,  30,  42,  56,  72,  90, 110], dtype=int32)"
      ]
     },
     "execution_count": 18,
     "metadata": {},
     "output_type": "execute_result"
    }
   ],
   "source": [
    "np.cumsum(arr_1)        # calculate the cumulative sum of the elements in numpy array."
   ]
  },
  {
   "cell_type": "code",
   "execution_count": 19,
   "id": "77948ad2",
   "metadata": {},
   "outputs": [
    {
     "data": {
      "text/plain": [
       "20"
      ]
     },
     "execution_count": 19,
     "metadata": {},
     "output_type": "execute_result"
    }
   ],
   "source": [
    "np.max(arr_1)           # return the maximum value of numpy array."
   ]
  },
  {
   "cell_type": "code",
   "execution_count": 20,
   "id": "42fc8444",
   "metadata": {},
   "outputs": [
    {
     "data": {
      "text/plain": [
       "9"
      ]
     },
     "execution_count": 20,
     "metadata": {},
     "output_type": "execute_result"
    }
   ],
   "source": [
    "np.argmax(arr_1)       # return the index of the elements with maximum value in the numpy array."
   ]
  },
  {
   "cell_type": "code",
   "execution_count": 21,
   "id": "fa1f56c5",
   "metadata": {},
   "outputs": [
    {
     "data": {
      "text/plain": [
       "(array([0, 1, 2, 3, 4, 5, 6, 7, 8, 9], dtype=int64),)"
      ]
     },
     "execution_count": 21,
     "metadata": {},
     "output_type": "execute_result"
    }
   ],
   "source": [
    "np.nonzero(arr_1)       # return the indices(index of values in the array) of the nonzero elements in numpy array."
   ]
  },
  {
   "cell_type": "code",
   "execution_count": 5,
   "id": "295f7444",
   "metadata": {},
   "outputs": [
    {
     "data": {
      "text/plain": [
       "array(['Apple', 'Ball', '', 'Dog'], dtype='<U5')"
      ]
     },
     "execution_count": 5,
     "metadata": {},
     "output_type": "execute_result"
    }
   ],
   "source": [
    "stringArray = np.array(['Apple', 'Ball', '', 'Dog'])\n",
    "stringArray"
   ]
  },
  {
   "cell_type": "code",
   "execution_count": 7,
   "id": "704b38d5",
   "metadata": {},
   "outputs": [
    {
     "name": "stdout",
     "output_type": "stream",
     "text": [
      "Indices of non-empty elements in stringArray: (array([0, 1, 3], dtype=int64),)\n"
     ]
    }
   ],
   "source": [
    "stringResult = np.nonzero(stringArray)      # return indices(means index of value in array)of non-empty elements in stringArray\n",
    "print('Indices of non-empty elements in stringArray:', stringResult)"
   ]
  },
  {
   "cell_type": "code",
   "execution_count": 22,
   "id": "87d730d7",
   "metadata": {},
   "outputs": [
    {
     "data": {
      "text/plain": [
       "array([2.        , 2.57142857, 3.14285714, 3.71428571, 4.28571429,\n",
       "       4.85714286, 5.42857143, 6.        ])"
      ]
     },
     "execution_count": 22,
     "metadata": {},
     "output_type": "execute_result"
    }
   ],
   "source": [
    "np.linspace(2,6,8)           # its mean it shows 8 num.b/w 2 & 6 ."
   ]
  },
  {
   "cell_type": "code",
   "execution_count": 23,
   "id": "3a59b43d",
   "metadata": {},
   "outputs": [
    {
     "data": {
      "text/plain": [
       "array([ 0,  1,  2,  3,  4,  5,  6,  7,  8,  9, 10, 11, 12, 13, 14, 15, 16,\n",
       "       17, 18, 19])"
      ]
     },
     "execution_count": 23,
     "metadata": {},
     "output_type": "execute_result"
    }
   ],
   "source": [
    "arr_2 = np.arange(20)        # it will show no.from 0 to you choice of number.\n",
    "arr_2"
   ]
  },
  {
   "cell_type": "code",
   "execution_count": 77,
   "id": "d8fd2b44",
   "metadata": {},
   "outputs": [
    {
     "data": {
      "text/plain": [
       "array([4.  , 5.25, 6.5 , 7.75, 9.  ])"
      ]
     },
     "execution_count": 77,
     "metadata": {},
     "output_type": "execute_result"
    }
   ],
   "source": [
    "arr_4 = np.linspace(4,9,5)    # 1st = first point, 2nd = last point , 3rd = total no of value between these two points.\n",
    "arr_4"
   ]
  },
  {
   "cell_type": "code",
   "execution_count": 78,
   "id": "73edb63b",
   "metadata": {},
   "outputs": [
    {
     "data": {
      "text/plain": [
       "array([ 2,  4,  6,  8, 10, 12, 14, 16, 18, 20])"
      ]
     },
     "execution_count": 78,
     "metadata": {},
     "output_type": "execute_result"
    }
   ],
   "source": [
    "arr_1"
   ]
  },
  {
   "cell_type": "code",
   "execution_count": 87,
   "id": "450d51be",
   "metadata": {},
   "outputs": [
    {
     "data": {
      "text/plain": [
       "array([ 2,  4,  6,  8, 10, 12, 14, 16, 18])"
      ]
     },
     "execution_count": 87,
     "metadata": {},
     "output_type": "execute_result"
    }
   ],
   "source": [
    "a = np.array([ 2,  4,  6,  8, 10, 12, 14, 16, 18])\n",
    "a"
   ]
  },
  {
   "cell_type": "code",
   "execution_count": 88,
   "id": "1b068b5c",
   "metadata": {},
   "outputs": [
    {
     "data": {
      "text/plain": [
       "array([[ 2,  4,  6],\n",
       "       [ 8, 10, 12],\n",
       "       [14, 16, 18]])"
      ]
     },
     "execution_count": 88,
     "metadata": {},
     "output_type": "execute_result"
    }
   ],
   "source": [
    "b = a.reshape(3,3)\n",
    "b"
   ]
  },
  {
   "cell_type": "code",
   "execution_count": 93,
   "id": "a832d158",
   "metadata": {},
   "outputs": [
    {
     "data": {
      "text/plain": [
       "array([[ 2,  4,  6],\n",
       "       [ 8, 10, 12],\n",
       "       [14, 16, 18]])"
      ]
     },
     "execution_count": 93,
     "metadata": {},
     "output_type": "execute_result"
    }
   ],
   "source": [
    "np.reshape(a,newshape = (3,3),order = 'A')"
   ]
  },
  {
   "cell_type": "markdown",
   "id": "7f613cea",
   "metadata": {},
   "source": [
    "# ORDERS IN NUMPY\n",
    " ## there are four types of orders in numpy\n",
    "        \n",
    ">**C** Is Contiguous layout. Mathematically speaking,<font color='red'>row major</font>.\n",
    "\n",
    ">**F** Is Fortran contiguous layout. Mathematically speaking, <span style=\"color:green\">column major<span>.\n",
    "\n",
    ">**A** Is any order. Generally  <font color='red'>don't use this</font>.\n",
    "\n",
    ">**K** Is keep order. Generally <span style=\"color:green\">don't use this<span>."
   ]
  },
  {
   "cell_type": "code",
   "execution_count": 98,
   "id": "f2892f4a",
   "metadata": {},
   "outputs": [
    {
     "data": {
      "text/plain": [
       "array([ 2,  4,  6,  8, 10, 12, 14, 16, 18, 20])"
      ]
     },
     "execution_count": 98,
     "metadata": {},
     "output_type": "execute_result"
    }
   ],
   "source": [
    "arr_1 = np.array([2,  4,  6,  8, 10, 12, 14, 16, 18, 20])\n",
    "arr_1"
   ]
  },
  {
   "cell_type": "markdown",
   "id": "50074961",
   "metadata": {},
   "source": [
    "# indexing & Slicing\n",
    "## Slicing in python means taking elements from one given index to another given index.\n",
    "\n",
    ">We pass slice instead of index like this: [start:end].\n",
    "\n",
    ">We can also define the step, like this: [start:end:step]."
   ]
  },
  {
   "cell_type": "code",
   "execution_count": 100,
   "id": "497a14f0",
   "metadata": {
    "scrolled": true
   },
   "outputs": [
    {
     "name": "stdout",
     "output_type": "stream",
     "text": [
      "8\n"
     ]
    }
   ],
   "source": [
    "print(arr_1[3])   # we can call a value by its index"
   ]
  },
  {
   "cell_type": "code",
   "execution_count": 101,
   "id": "50059833",
   "metadata": {},
   "outputs": [
    {
     "name": "stdout",
     "output_type": "stream",
     "text": [
      "[ 2  4  6  8 10 12]\n"
     ]
    }
   ],
   "source": [
    "print(arr_1[0:6])   # 1st argument = first index , 2ns argument =  last index , it will print values fron index 0 to index 6."
   ]
  },
  {
   "cell_type": "code",
   "execution_count": 102,
   "id": "dde792fb",
   "metadata": {},
   "outputs": [
    {
     "name": "stdout",
     "output_type": "stream",
     "text": [
      "[ 8 10 12 14 16 18 20]\n"
     ]
    }
   ],
   "source": [
    "print(arr_1[3: ])      # 1st argument = first index , 2ns argument = black space which it will print from 3 to onward go the last index."
   ]
  },
  {
   "cell_type": "code",
   "execution_count": 103,
   "id": "cf21dc80",
   "metadata": {},
   "outputs": [
    {
     "name": "stdout",
     "output_type": "stream",
     "text": [
      "[ 2  4  6  8 10 12 14]\n"
     ]
    }
   ],
   "source": [
    "print(arr_1[ :7])    # 1st argument = blank means its index 0 , 2nd argument = last index , means it will print from index 0 to the index 7."
   ]
  },
  {
   "cell_type": "code",
   "execution_count": 104,
   "id": "63fa07db",
   "metadata": {},
   "outputs": [
    {
     "name": "stdout",
     "output_type": "stream",
     "text": [
      "[20 18 16 14 12 10  8  6  4  2]\n"
     ]
    }
   ],
   "source": [
    "print(arr_1[::-1])     # by this we can print our array in reverse order from last index to the first index."
   ]
  },
  {
   "cell_type": "code",
   "execution_count": 106,
   "id": "0da566c2",
   "metadata": {
    "scrolled": true
   },
   "outputs": [
    {
     "name": "stdout",
     "output_type": "stream",
     "text": [
      "[ 4 10]\n"
     ]
    }
   ],
   "source": [
    "print(arr_1[1:6:2])   # 1st argument = first index , 2nd argument = last index , 3rd argument = give value by skipping 1 value."
   ]
  },
  {
   "cell_type": "code",
   "execution_count": null,
   "id": "fdd753e9",
   "metadata": {},
   "outputs": [],
   "source": [
    "print(arr_1[1:6:3])  # 1st argument = first index , 2nd argument = last index , 3rd argument = give value by skipping 2 value."
   ]
  },
  {
   "cell_type": "code",
   "execution_count": 108,
   "id": "adce54f6",
   "metadata": {},
   "outputs": [
    {
     "name": "stdout",
     "output_type": "stream",
     "text": [
      "[ 4  8 12 16 20]\n"
     ]
    }
   ],
   "source": [
    "print(arr_1[1: :2])  # 1st argument = first index , 2nd argument = space (means its the last index od the array) , 3rd argument = give value by skipping 1 value."
   ]
  },
  {
   "cell_type": "code",
   "execution_count": 110,
   "id": "2396a554",
   "metadata": {
    "scrolled": false
   },
   "outputs": [
    {
     "name": "stdout",
     "output_type": "stream",
     "text": [
      "[16 18]\n"
     ]
    }
   ],
   "source": [
    "print(arr_1[-3:-1])     # it will give values from the index 3 from the end to index 1 from the end:"
   ]
  },
  {
   "cell_type": "markdown",
   "id": "beb52deb",
   "metadata": {},
   "source": [
    "### Slicing on the basis of conditions"
   ]
  },
  {
   "cell_type": "code",
   "execution_count": 124,
   "id": "5ee29ab8",
   "metadata": {},
   "outputs": [
    {
     "data": {
      "text/plain": [
       "array([ 6,  8, 10, 12, 14, 16, 18, 20])"
      ]
     },
     "execution_count": 124,
     "metadata": {},
     "output_type": "execute_result"
    }
   ],
   "source": [
    "(arr_1[arr_1>4])     # in this we give condition like it will print value that are greater than 4."
   ]
  },
  {
   "cell_type": "code",
   "execution_count": 126,
   "id": "e216b3ae",
   "metadata": {},
   "outputs": [
    {
     "name": "stdout",
     "output_type": "stream",
     "text": [
      "[False False False False  True  True  True  True  True  True]\n"
     ]
    }
   ],
   "source": [
    "print(arr_1>8)     # by this method condition will give answer in boolean datatype in which(Fasle not fulfil the given condition & True means it  fulfil the given condition)."
   ]
  },
  {
   "cell_type": "code",
   "execution_count": 127,
   "id": "9ec7bb1d",
   "metadata": {},
   "outputs": [
    {
     "name": "stdout",
     "output_type": "stream",
     "text": [
      "[ True  True  True  True False  True  True  True  True  True]\n"
     ]
    }
   ],
   "source": [
    "print(arr_1!=10)   # by this method condition will give answer in boolean datatype in which(Fasle not fulfil the given condition & True means it  fulfil the given condition)."
   ]
  },
  {
   "cell_type": "code",
   "execution_count": 128,
   "id": "58dd04c7",
   "metadata": {},
   "outputs": [
    {
     "name": "stdout",
     "output_type": "stream",
     "text": [
      "[ True  True  True  True False False False False False False]\n"
     ]
    }
   ],
   "source": [
    "print(arr_1<12)   # same as the above one. "
   ]
  },
  {
   "cell_type": "markdown",
   "id": "89469091",
   "metadata": {},
   "source": [
    "\n",
    "# Two Dimensional Array"
   ]
  },
  {
   "cell_type": "code",
   "execution_count": 113,
   "id": "f37d6538",
   "metadata": {},
   "outputs": [
    {
     "data": {
      "text/plain": [
       "array([[ 2,  4,  6,  8, 10],\n",
       "       [12, 14, 16, 18, 20]])"
      ]
     },
     "execution_count": 113,
     "metadata": {},
     "output_type": "execute_result"
    }
   ],
   "source": [
    "arr_5 = np.array([[2,4,6,8,10] , [12,14,16,18,20]])\n",
    "arr_5"
   ]
  },
  {
   "cell_type": "code",
   "execution_count": 114,
   "id": "90a06564",
   "metadata": {
    "scrolled": true
   },
   "outputs": [
    {
     "data": {
      "text/plain": [
       "numpy.ndarray"
      ]
     },
     "execution_count": 114,
     "metadata": {},
     "output_type": "execute_result"
    }
   ],
   "source": [
    "type(arr_5)       # here we can check the type of an array."
   ]
  },
  {
   "cell_type": "code",
   "execution_count": 116,
   "id": "3ebcbfa9",
   "metadata": {},
   "outputs": [
    {
     "name": "stdout",
     "output_type": "stream",
     "text": [
      "[14 16 18]\n"
     ]
    }
   ],
   "source": [
    "print(arr_5[1, 1:4]) # 1st argument = index of ROW from the array, 2nd argument = (1:4) in this 1st digit is the first index of value from that ROW and 2nd digit is the last index of the value from that ROW. "
   ]
  },
  {
   "cell_type": "code",
   "execution_count": 117,
   "id": "07b3a1e8",
   "metadata": {
    "scrolled": true
   },
   "outputs": [
    {
     "name": "stdout",
     "output_type": "stream",
     "text": [
      "[ 6 16]\n"
     ]
    }
   ],
   "source": [
    "print(arr_5[0:2, 2])      # it the same like above cell but chenge in position.\n",
    "# 1st argument = (0:2) in this 1st digit is the first index of value from that ROW and 2nd digit is the last index of the value from that ROW.\n",
    "# 2nd argument = index of ROW from the array"
   ]
  },
  {
   "cell_type": "code",
   "execution_count": 119,
   "id": "b7ecba57",
   "metadata": {},
   "outputs": [
    {
     "name": "stdout",
     "output_type": "stream",
     "text": [
      "[[ 4  6  8]\n",
      " [14 16 18]]\n"
     ]
    }
   ],
   "source": [
    "print(arr_5[0:2, 1:4])    \n",
    "# 1st argument = (0:2) 1st digit is the index of first value ,and 2nd digit the index of last value(will be given from first ROW of the matrix).\n",
    "# 1st argument = (1:4) 1st digit is the index of first value ,and 2nd digit the index of last value(will be given from second ROW of the matrix)."
   ]
  },
  {
   "cell_type": "code",
   "execution_count": 27,
   "id": "3f29bf98",
   "metadata": {},
   "outputs": [
    {
     "data": {
      "text/plain": [
       "(2, 5)"
      ]
     },
     "execution_count": 27,
     "metadata": {},
     "output_type": "execute_result"
    }
   ],
   "source": [
    "arr_5.shape      # in output 1st argument = ROWS  & 2nd argument =  COLUMNS."
   ]
  },
  {
   "cell_type": "code",
   "execution_count": 28,
   "id": "05b96c23",
   "metadata": {},
   "outputs": [
    {
     "data": {
      "text/plain": [
       "2"
      ]
     },
     "execution_count": 28,
     "metadata": {},
     "output_type": "execute_result"
    }
   ],
   "source": [
    "arr_5.ndim        # it will show the dimensions of an array."
   ]
  },
  {
   "cell_type": "code",
   "execution_count": 29,
   "id": "4db97219",
   "metadata": {},
   "outputs": [
    {
     "data": {
      "text/plain": [
       "10"
      ]
     },
     "execution_count": 29,
     "metadata": {},
     "output_type": "execute_result"
    }
   ],
   "source": [
    "arr_5.size         # it will show no. of values in array"
   ]
  },
  {
   "cell_type": "code",
   "execution_count": 30,
   "id": "7bcc13e6",
   "metadata": {},
   "outputs": [
    {
     "data": {
      "text/plain": [
       "array([[ 2,  7,  6, 89, 10],\n",
       "       [12, 17, 15, 18, 11]])"
      ]
     },
     "execution_count": 30,
     "metadata": {},
     "output_type": "execute_result"
    }
   ],
   "source": [
    "arr_5 = np.array([[2,7,6,89,10] , [12,17,15,18,11]])\n",
    "arr_5"
   ]
  },
  {
   "cell_type": "code",
   "execution_count": 37,
   "id": "16b67bce",
   "metadata": {},
   "outputs": [
    {
     "name": "stdout",
     "output_type": "stream",
     "text": [
      "Arrays before sorting [[ 2  6  7 10 89]\n",
      " [11 12 15 17 18]]\n",
      "Arrays after sorting [[ 2  6  7 10 89]\n",
      " [11 12 15 17 18]]\n"
     ]
    }
   ],
   "source": [
    "print(\"Arrays before sorting\",arr_5)\n",
    "arr_5.sort()                             #it can sort an array\n",
    "print(\"Arrays after sorting\",arr_5)\n"
   ]
  },
  {
   "cell_type": "code",
   "execution_count": 32,
   "id": "111dfecd",
   "metadata": {},
   "outputs": [
    {
     "data": {
      "text/plain": [
       "187"
      ]
     },
     "execution_count": 32,
     "metadata": {},
     "output_type": "execute_result"
    }
   ],
   "source": [
    "arr_5.sum()              # we can sum the vales in array"
   ]
  },
  {
   "cell_type": "code",
   "execution_count": 49,
   "id": "ae853906",
   "metadata": {},
   "outputs": [
    {
     "data": {
      "text/plain": [
       "array([12, 14, 16, 18, 20])"
      ]
     },
     "execution_count": 49,
     "metadata": {},
     "output_type": "execute_result"
    }
   ],
   "source": [
    "arr_5 = np.array([[2,4,6,8,10],[12,14,16,18,20]])\n",
    "arr_5[1,:]                           #This will return all elements of 1st row in the form of array"
   ]
  },
  {
   "cell_type": "code",
   "execution_count": 59,
   "id": "9506cd15",
   "metadata": {},
   "outputs": [
    {
     "data": {
      "text/plain": [
       "array([[0.86900138, 0.6391025 , 0.42187219, 0.77297601, 0.51075049],\n",
       "       [0.18685823, 0.46886823, 0.58761476, 0.14873368, 0.07223567]])"
      ]
     },
     "execution_count": 59,
     "metadata": {},
     "output_type": "execute_result"
    }
   ],
   "source": [
    "arr_rand = np.random.rand(2,5)       # it will generate an array with all random elements\n",
    "arr_rand"
   ]
  },
  {
   "cell_type": "code",
   "execution_count": 74,
   "id": "efc18f25",
   "metadata": {},
   "outputs": [
    {
     "name": "stdout",
     "output_type": "stream",
     "text": [
      "[[1. 0. 0.]\n",
      " [0. 1. 0.]\n",
      " [0. 0. 1.]]\n"
     ]
    }
   ],
   "source": [
    "arr_i = np.identity(3)   # it will return an identity matrix , in code value(that i put 3) means it make value-by-value matrix means 3-by-3 matrix. \n",
    "print(arr_i)"
   ]
  },
  {
   "cell_type": "code",
   "execution_count": 62,
   "id": "8bd848aa",
   "metadata": {},
   "outputs": [
    {
     "name": "stdout",
     "output_type": "stream",
     "text": [
      "[[3 4 5]\n",
      " [6 8 4]]\n",
      "[[-3 -2 -1]\n",
      " [ 0  2 -2]]\n",
      "[[ 3  6  9]\n",
      " [12 18  6]]\n",
      "[[0.5 1.  1.5]\n",
      " [2.  3.  1. ]]\n",
      "[[ 1  4  9]\n",
      " [16 36  4]]\n"
     ]
    }
   ],
   "source": [
    "#Arithmatic operation on 2d-array\n",
    "A = np.array([[1,2,3],[4,6,2]]) #array with size 3x3\n",
    "\n",
    "#Scalar operation - It will operate with scalar to each element of an array\n",
    "print(A+2)\n",
    "print(A-4)\n",
    "print(A*3)\n",
    "print(A/2)\n",
    "print(A**2)"
   ]
  },
  {
   "cell_type": "code",
   "execution_count": 63,
   "id": "c23f4e15",
   "metadata": {},
   "outputs": [
    {
     "name": "stdout",
     "output_type": "stream",
     "text": [
      "[[ 1  2  3]\n",
      " [ 4  5  6]\n",
      " [ 7  8  9]\n",
      " [10 11 12]]\n"
     ]
    }
   ],
   "source": [
    "arr = np.array([1, 2, 3, 4, 5, 6, 7, 8, 9, 10, 11, 12])\n",
    "\n",
    "newarr = arr.reshape(4, 3)     # 1st argument = no. of ROWS ,2nd arguments = no. of COLUMNS.\n",
    "\n",
    "print(newarr)"
   ]
  },
  {
   "cell_type": "code",
   "execution_count": 134,
   "id": "d0926f53",
   "metadata": {},
   "outputs": [
    {
     "data": {
      "text/plain": [
       "array([[[1, 2],\n",
       "        [2, 3],\n",
       "        [3, 4]]])"
      ]
     },
     "execution_count": 134,
     "metadata": {},
     "output_type": "execute_result"
    }
   ],
   "source": [
    "a = np.array((1,2,3))      # it will Stack arrays in sequence depth wise (along third axis).\n",
    "b = np.array((2,3,4))\n",
    "np.dstack((a,b))"
   ]
  },
  {
   "cell_type": "code",
   "execution_count": 135,
   "id": "6e2c90b6",
   "metadata": {},
   "outputs": [
    {
     "data": {
      "text/plain": [
       "masked_array(\n",
       "  data=[[[1, 2],\n",
       "         [2, 3],\n",
       "         [3, 4]]],\n",
       "  mask=[[[False, False],\n",
       "         [False, False],\n",
       "         [False, False]]],\n",
       "  fill_value=999999)"
      ]
     },
     "execution_count": 135,
     "metadata": {},
     "output_type": "execute_result"
    }
   ],
   "source": [
    "np.ma.dstack((a,b))     # it will Stack arrays in sequence depth wise (along third axis) & then give an array in masked form(True if it is MaskType, False otherwise). "
   ]
  },
  {
   "cell_type": "code",
   "execution_count": 136,
   "id": "15b9e6b5",
   "metadata": {},
   "outputs": [
    {
     "data": {
      "text/plain": [
       "array([[1, 2, 3],\n",
       "       [2, 3, 4]])"
      ]
     },
     "execution_count": 136,
     "metadata": {},
     "output_type": "execute_result"
    }
   ],
   "source": [
    "np.vstack((a,b))     # it will give an array in vertical form "
   ]
  },
  {
   "cell_type": "code",
   "execution_count": 137,
   "id": "b248f7a3",
   "metadata": {},
   "outputs": [
    {
     "data": {
      "text/plain": [
       "array([1, 2, 3, 2, 3, 4])"
      ]
     },
     "execution_count": 137,
     "metadata": {},
     "output_type": "execute_result"
    }
   ],
   "source": [
    "np.hstack((a,b))       # it will give array in horizontal form  "
   ]
  },
  {
   "cell_type": "code",
   "execution_count": 150,
   "id": "7ec2f452",
   "metadata": {},
   "outputs": [
    {
     "data": {
      "text/plain": [
       "array([[ 1,  2,  3,  4,  5],\n",
       "       [ 6,  7,  8,  9, 10],\n",
       "       [11, 12, 13, 14, 15],\n",
       "       [16, 17, 18, 19, 20]])"
      ]
     },
     "execution_count": 150,
     "metadata": {},
     "output_type": "execute_result"
    }
   ],
   "source": [
    "i = np.arange(1,21).reshape(4,5)\n",
    "i"
   ]
  },
  {
   "cell_type": "code",
   "execution_count": 161,
   "id": "99a3a043",
   "metadata": {},
   "outputs": [
    {
     "data": {
      "text/plain": [
       "210"
      ]
     },
     "execution_count": 161,
     "metadata": {},
     "output_type": "execute_result"
    }
   ],
   "source": [
    "i.sum()    # it will sum all the value in the array"
   ]
  },
  {
   "cell_type": "code",
   "execution_count": 163,
   "id": "79c61657",
   "metadata": {},
   "outputs": [
    {
     "data": {
      "text/plain": [
       "array([34, 38, 42, 46, 50])"
      ]
     },
     "execution_count": 163,
     "metadata": {},
     "output_type": "execute_result"
    }
   ],
   "source": [
    "i.sum(axis = 0)       # it will sum values in array column wise( axis = 0 = horizontal which means it will sum all the value in matrixs column wise).    "
   ]
  },
  {
   "cell_type": "code",
   "execution_count": 164,
   "id": "4f827f86",
   "metadata": {},
   "outputs": [
    {
     "data": {
      "text/plain": [
       "array([15, 40, 65, 90])"
      ]
     },
     "execution_count": 164,
     "metadata": {},
     "output_type": "execute_result"
    }
   ],
   "source": [
    "i.sum(axis = 1)       # it will sum values in array row wise( axis = 1 = vertical which meansit will sum all the value in matrixs row wise)"
   ]
  },
  {
   "cell_type": "code",
   "execution_count": 151,
   "id": "d5e02c47",
   "metadata": {},
   "outputs": [
    {
     "data": {
      "text/plain": [
       "[array([[1, 2, 3, 4, 5]]),\n",
       " array([[ 6,  7,  8,  9, 10]]),\n",
       " array([[11, 12, 13, 14, 15]]),\n",
       " array([[16, 17, 18, 19, 20]])]"
      ]
     },
     "execution_count": 151,
     "metadata": {},
     "output_type": "execute_result"
    }
   ],
   "source": [
    "np.vsplit(i,4)      # will split the array in vertical split( means that will form only no.of columns in array not no. of rows)"
   ]
  },
  {
   "cell_type": "code",
   "execution_count": 155,
   "id": "435c34fa",
   "metadata": {},
   "outputs": [
    {
     "data": {
      "text/plain": [
       "[array([[ 1],\n",
       "        [ 6],\n",
       "        [11],\n",
       "        [16]]),\n",
       " array([[ 2],\n",
       "        [ 7],\n",
       "        [12],\n",
       "        [17]]),\n",
       " array([[ 3],\n",
       "        [ 8],\n",
       "        [13],\n",
       "        [18]]),\n",
       " array([[ 4],\n",
       "        [ 9],\n",
       "        [14],\n",
       "        [19]]),\n",
       " array([[ 5],\n",
       "        [10],\n",
       "        [15],\n",
       "        [20]])]"
      ]
     },
     "execution_count": 155,
     "metadata": {},
     "output_type": "execute_result"
    }
   ],
   "source": [
    "np.hsplit(i,5)   # will split the array in 5 horizontal array( means that will form only no.of ROWS in array not no. of COLUMNS)"
   ]
  },
  {
   "cell_type": "code",
   "execution_count": 156,
   "id": "12e62b71",
   "metadata": {},
   "outputs": [
    {
     "data": {
      "text/plain": [
       "array([2, 4])"
      ]
     },
     "execution_count": 156,
     "metadata": {},
     "output_type": "execute_result"
    }
   ],
   "source": [
    "Data = np.array([2,4])\n",
    "Data"
   ]
  },
  {
   "cell_type": "code",
   "execution_count": 158,
   "id": "4ad4cbb5",
   "metadata": {},
   "outputs": [
    {
     "data": {
      "text/plain": [
       "array([1, 1])"
      ]
     },
     "execution_count": 158,
     "metadata": {},
     "output_type": "execute_result"
    }
   ],
   "source": [
    "ones = np.ones(2,dtype = int)\n",
    "ones"
   ]
  },
  {
   "cell_type": "code",
   "execution_count": 159,
   "id": "b2b8690c",
   "metadata": {},
   "outputs": [
    {
     "data": {
      "text/plain": [
       "array([3, 5])"
      ]
     },
     "execution_count": 159,
     "metadata": {},
     "output_type": "execute_result"
    }
   ],
   "source": [
    "Data + ones      #it will sum both column wise"
   ]
  },
  {
   "cell_type": "code",
   "execution_count": 160,
   "id": "d7d0f583",
   "metadata": {},
   "outputs": [
    {
     "data": {
      "text/plain": [
       "array([2, 4])"
      ]
     },
     "execution_count": 160,
     "metadata": {},
     "output_type": "execute_result"
    }
   ],
   "source": [
    "Data * ones      #it will multiply both column wise"
   ]
  },
  {
   "cell_type": "code",
   "execution_count": null,
   "id": "4fd7f10e",
   "metadata": {},
   "outputs": [],
   "source": []
  },
  {
   "cell_type": "markdown",
   "id": "ed0699d1",
   "metadata": {},
   "source": [
    "# Three Dimensional Array"
   ]
  },
  {
   "cell_type": "code",
   "execution_count": 47,
   "id": "c0f4126e",
   "metadata": {},
   "outputs": [
    {
     "data": {
      "text/plain": [
       "array([[[1, 0, 3],\n",
       "        [2, 0, 0],\n",
       "        [0, 4, 5]]])"
      ]
     },
     "execution_count": 47,
     "metadata": {},
     "output_type": "execute_result"
    }
   ],
   "source": [
    "a = np.array([[[1, 0, 3],[2, 0, 0],[0, 4, 5]]])\n",
    "a"
   ]
  },
  {
   "cell_type": "code",
   "execution_count": 29,
   "id": "e5c99f62",
   "metadata": {},
   "outputs": [
    {
     "data": {
      "text/plain": [
       "numpy.ndarray"
      ]
     },
     "execution_count": 29,
     "metadata": {},
     "output_type": "execute_result"
    }
   ],
   "source": [
    "type(a)           # here we can check the type of an array."
   ]
  },
  {
   "cell_type": "code",
   "execution_count": 48,
   "id": "3d783684",
   "metadata": {
    "scrolled": true
   },
   "outputs": [
    {
     "data": {
      "text/plain": [
       "3"
      ]
     },
     "execution_count": 48,
     "metadata": {},
     "output_type": "execute_result"
    }
   ],
   "source": [
    "a.ndim               # it will the show no. of dimensions of an array.    "
   ]
  },
  {
   "cell_type": "code",
   "execution_count": 31,
   "id": "e4e1dc33",
   "metadata": {},
   "outputs": [
    {
     "data": {
      "text/plain": [
       "(3, 3)"
      ]
     },
     "execution_count": 31,
     "metadata": {},
     "output_type": "execute_result"
    }
   ],
   "source": [
    "a.shape              #1st argument = no. of dimension , 2nd argument = no. of ROWS , 3rd argument = no.of COLUMNS"
   ]
  },
  {
   "cell_type": "code",
   "execution_count": 32,
   "id": "9ec61345",
   "metadata": {},
   "outputs": [
    {
     "data": {
      "text/plain": [
       "array([ 0,  1,  2,  3,  4,  5,  6,  7,  8,  9, 10, 11])"
      ]
     },
     "execution_count": 32,
     "metadata": {},
     "output_type": "execute_result"
    }
   ],
   "source": [
    "a2 = np.arange(12)   # arange(12) means it will give 12 value from 0 to 11.\n",
    "a2"
   ]
  },
  {
   "cell_type": "code",
   "execution_count": 33,
   "id": "4c2bf3df",
   "metadata": {},
   "outputs": [
    {
     "data": {
      "text/plain": [
       "array([[[ 0,  1,  2,  3],\n",
       "        [ 4,  5,  6,  7],\n",
       "        [ 8,  9, 10, 11]],\n",
       "\n",
       "       [[12, 13, 14, 15],\n",
       "        [16, 17, 18, 19],\n",
       "        [20, 21, 22, 23]]])"
      ]
     },
     "execution_count": 33,
     "metadata": {},
     "output_type": "execute_result"
    }
   ],
   "source": [
    "a3 = np.arange(24).reshape(2,3,4)   #arange(24) means it will give 12 value from 0 to 23.\n",
    "a3\n",
    "# reshape (2,3,4)  in with 1st argument = dimension or axis, 2nd argument = no, of ROWS, 3rd argument = no. ofCOLUMNS."
   ]
  },
  {
   "cell_type": "code",
   "execution_count": 34,
   "id": "2bee8782",
   "metadata": {},
   "outputs": [
    {
     "data": {
      "text/plain": [
       "(2, 3, 4)"
      ]
     },
     "execution_count": 34,
     "metadata": {},
     "output_type": "execute_result"
    }
   ],
   "source": [
    "a3.shape       # 1st argument = Dimensions , 2nd argument = ROWS , 3rd argument = COLUMNS"
   ]
  },
  {
   "cell_type": "code",
   "execution_count": 35,
   "id": "cb0b2180",
   "metadata": {},
   "outputs": [
    {
     "data": {
      "text/plain": [
       "array([[[ 2,  4,  6,  8, 10],\n",
       "        [12, 14, 16, 18, 20],\n",
       "        [22, 24, 26, 28, 30]]])"
      ]
     },
     "execution_count": 35,
     "metadata": {},
     "output_type": "execute_result"
    }
   ],
   "source": [
    "a4 = np.array([[[2,4,6,8,10] , [12,14,16,18,20] , [22,24,26,28,30]]])\n",
    "a4"
   ]
  },
  {
   "cell_type": "code",
   "execution_count": 36,
   "id": "ffd22076",
   "metadata": {},
   "outputs": [
    {
     "data": {
      "text/plain": [
       "array([12, 14, 16, 18, 20])"
      ]
     },
     "execution_count": 36,
     "metadata": {},
     "output_type": "execute_result"
    }
   ],
   "source": [
    "a4[0 , 1]         #1st argument = dimension which is 0 here that means it will only makr horizontal array , 2nd argument = index of ROWS"
   ]
  },
  {
   "cell_type": "code",
   "execution_count": 37,
   "id": "a015b731",
   "metadata": {},
   "outputs": [
    {
     "data": {
      "text/plain": [
       "array([22, 24, 26, 28, 30])"
      ]
     },
     "execution_count": 37,
     "metadata": {},
     "output_type": "execute_result"
    }
   ],
   "source": [
    "a4[0, 2]         #1st argument = dimension which is 0 here that means it will only make horizontal array , 2nd argument = index of ROWS"
   ]
  },
  {
   "cell_type": "code",
   "execution_count": 38,
   "id": "04e6f979",
   "metadata": {},
   "outputs": [
    {
     "data": {
      "text/plain": [
       "26"
      ]
     },
     "execution_count": 38,
     "metadata": {},
     "output_type": "execute_result"
    }
   ],
   "source": [
    "a4[0,2,2]        # 1st argument = dimension(0) , 2nd argument = index of ROW(2) , 3rd argument = index of the value(2)"
   ]
  },
  {
   "cell_type": "code",
   "execution_count": 39,
   "id": "48a6d8bf",
   "metadata": {},
   "outputs": [
    {
     "data": {
      "text/plain": [
       "18"
      ]
     },
     "execution_count": 39,
     "metadata": {},
     "output_type": "execute_result"
    }
   ],
   "source": [
    "a4[0,1,3]        # 1st argument = dimension(0) , 2nd argument = index of ROW(1) , 3rd argument = index of the value(3)"
   ]
  },
  {
   "cell_type": "code",
   "execution_count": 40,
   "id": "4af283b2",
   "metadata": {},
   "outputs": [
    {
     "data": {
      "text/plain": [
       "array([[ 2,  4,  6],\n",
       "       [12, 14, 16]])"
      ]
     },
     "execution_count": 40,
     "metadata": {},
     "output_type": "execute_result"
    }
   ],
   "source": [
    "a4[0, 0:2, 0:3]       #we can take specific rows & columns from array\n",
    "   # 1st argument = Dimension of the array \n",
    "    #2nd argument(0:2) = in which 1st digit means the index of ROW & 2nd digit means the index of value from that ROW.\n",
    "    #3rd argument(0:3) = in which 1st digit means the index of COLUMN & 2nd digit means the index of value from that COLUMN.\n",
    "    "
   ]
  },
  {
   "cell_type": "code",
   "execution_count": 41,
   "id": "85786a4d",
   "metadata": {},
   "outputs": [
    {
     "data": {
      "text/plain": [
       "array([[16]])"
      ]
     },
     "execution_count": 41,
     "metadata": {},
     "output_type": "execute_result"
    }
   ],
   "source": [
    "a4[0, 1:2, 2:3]       #we can take specific rows & columns from array\n",
    "    # 1st argument = Dimension of the array \n",
    "    # 2nd argument(1:2) = in which 1st digit means the index of ROW & 2nd digit means the index of value from that ROW.\n",
    "    # 3rd argument(2:3) = in which 1st digit means the index of COLUMN & 2nd digit means the index of value from that COLUMN.\n",
    "    "
   ]
  },
  {
   "cell_type": "code",
   "execution_count": 42,
   "id": "d092c8b5",
   "metadata": {},
   "outputs": [
    {
     "data": {
      "text/plain": [
       "array([3, 4, 5, 2, 2, 3, 6, 9, 8, 2, 5, 8, 8, 2, 3, 6, 2, 8, 2, 5])"
      ]
     },
     "execution_count": 42,
     "metadata": {},
     "output_type": "execute_result"
    }
   ],
   "source": [
    "np.random.randint(2,10,20)\n",
    "   # 1st argument = first value,\n",
    "    #2nd argument = last value , \n",
    "    #3rd argument = no . value that we make between first value and last value."
   ]
  },
  {
   "cell_type": "code",
   "execution_count": 43,
   "id": "e4ee2c98",
   "metadata": {},
   "outputs": [
    {
     "data": {
      "text/plain": [
       "array([10, 11, 13, 19,  7,  3, 15,  9,  6,  6])"
      ]
     },
     "execution_count": 43,
     "metadata": {},
     "output_type": "execute_result"
    }
   ],
   "source": [
    "np.random.randint(3,20,10)\n",
    "# 1st argument = first value,\n",
    "# 2nd argument = last value ,#\n",
    "#3rd argument = no . value that it make between first value and last value."
   ]
  },
  {
   "cell_type": "code",
   "execution_count": 44,
   "id": "8226145a",
   "metadata": {},
   "outputs": [
    {
     "data": {
      "text/plain": [
       "array([  2,   6,  12,  20,  30,  42,  56,  72,  90, 110, 132, 156, 182,\n",
       "       210, 240], dtype=int32)"
      ]
     },
     "execution_count": 44,
     "metadata": {},
     "output_type": "execute_result"
    }
   ],
   "source": [
    "np.cumsum(a4)    # calculate the cumulative sum of the elements in numpy array\n",
    " # means it will sum first and second digit = firstvalue,\n",
    "    # then that first value sum up with third digit = second value,\n",
    "    # then that second value sum up with forth digit = third value,   and so on it will goes to the last digit."
   ]
  },
  {
   "cell_type": "code",
   "execution_count": 74,
   "id": "261f2699",
   "metadata": {},
   "outputs": [
    {
     "data": {
      "text/plain": [
       "array([[[1, 0, 3],\n",
       "        [2, 0, 0],\n",
       "        [0, 4, 5]]])"
      ]
     },
     "execution_count": 74,
     "metadata": {},
     "output_type": "execute_result"
    }
   ],
   "source": [
    "a    # here we call our first array"
   ]
  },
  {
   "cell_type": "code",
   "execution_count": 50,
   "id": "814bfe77",
   "metadata": {},
   "outputs": [
    {
     "data": {
      "text/plain": [
       "(array([0, 0, 0, 0, 0], dtype=int64),\n",
       " array([0, 0, 1, 2, 2], dtype=int64),\n",
       " array([0, 2, 0, 1, 2], dtype=int64))"
      ]
     },
     "execution_count": 50,
     "metadata": {},
     "output_type": "execute_result"
    }
   ],
   "source": [
    "np.nonzero(a)        # return the indices of the nonzero elements in numpy array\n",
    "  #in output 1st array = show dimension of newly formed array \n",
    "    # 2nd array = it show index of values ROW wise in the matrix(like in 1st row we have 1 at index0, then in 2nd row we have 2 at index 0 , in 3rd Row we have 4 at index 1 and 5 at index 2 then at last it will go to 1st row where we have 3 at index 2)\n",
    "    # 3rd array = it show index od values COLUMN wise in the matrix( like in 1st column we have 1 at index 0, then in 2nd column we have 4 at index 2, then in 3rd column we have 3 at index 0 then it goes to first column for second calue in 1st column which is 2 at index 1 and then we have a value in 3rd column which is 5 at index 2)"
   ]
  },
  {
   "cell_type": "code",
   "execution_count": 51,
   "id": "2817d626",
   "metadata": {},
   "outputs": [
    {
     "data": {
      "text/plain": [
       "array([[0, 0, 0],\n",
       "       [0, 0, 2],\n",
       "       [0, 1, 0],\n",
       "       [0, 2, 1],\n",
       "       [0, 2, 2]], dtype=int64)"
      ]
     },
     "execution_count": 51,
     "metadata": {},
     "output_type": "execute_result"
    }
   ],
   "source": [
    "np.transpose(np.nonzero(a))    # Here we have a simple transpose of nonzero functions's output which convert COLUMNS into ROWS."
   ]
  },
  {
   "cell_type": "code",
   "execution_count": 54,
   "id": "bc767b58",
   "metadata": {},
   "outputs": [
    {
     "data": {
      "text/plain": [
       "array([[[2, 0, 1],\n",
       "        [0, 1, 0],\n",
       "        [1, 2, 2]]], dtype=int64)"
      ]
     },
     "execution_count": 54,
     "metadata": {},
     "output_type": "execute_result"
    }
   ],
   "source": [
    "np.argsort(a, axis = 1)     # in argsort with axis = 1 function work as The elements in the first column are sorted first followed by the second column and so on. All columns are sorted independently of each other.\n",
    "# like in our matrix(a)in 1st column of matrix(a) we have smallest value 0 at index 2 then we have 1 at index 0 then we have 2 at index 1,in output first column is like that.\n",
    "# then in 2nd column of matrix(a) we have smallest value 0 at index then we have aother value 0 at index 1 then we have value 4 at index 2 .in output second column is like that,\n",
    "# then in 3rd column of our matrix(a) we have smallest value 0 at index 1 then we have 3 at index 1 and then we have 5 at index 2, in output the third column is made like this."
   ]
  },
  {
   "cell_type": "code",
   "execution_count": 55,
   "id": "c864dbb9",
   "metadata": {},
   "outputs": [
    {
     "data": {
      "text/plain": [
       "array([[[-1,  3],\n",
       "        [-2,  0],\n",
       "        [ 4,  1]]])"
      ]
     },
     "execution_count": 55,
     "metadata": {},
     "output_type": "execute_result"
    }
   ],
   "source": [
    "np.diff(a)   # this function we compare values in a row by themselves\n",
    "            # like in first ROW (0-1=-1) &(3-0=3) then in second ROW (0-2=-2)&(0-0=0) then in third ROW(4-0=4)&(5-4=1)"
   ]
  },
  {
   "cell_type": "code",
   "execution_count": 58,
   "id": "68dd4383",
   "metadata": {},
   "outputs": [
    {
     "data": {
      "text/plain": [
       "5"
      ]
     },
     "execution_count": 58,
     "metadata": {},
     "output_type": "execute_result"
    }
   ],
   "source": [
    "np.max(a)       # this will gives us the maximun value from the matrix(a)."
   ]
  },
  {
   "cell_type": "code",
   "execution_count": 64,
   "id": "2489ee58",
   "metadata": {},
   "outputs": [
    {
     "data": {
      "text/plain": [
       "array([[0., 0., 0.],\n",
       "       [0., 0., 0.],\n",
       "       [0., 0., 0.]])"
      ]
     },
     "execution_count": 64,
     "metadata": {},
     "output_type": "execute_result"
    }
   ],
   "source": [
    "np.std(a , axis = 0)     # here axis = 0 means STD( standard daviation ) is along the individual COLUMNS of the rows of matrix."
   ]
  },
  {
   "cell_type": "code",
   "execution_count": 68,
   "id": "bc1bd170",
   "metadata": {},
   "outputs": [
    {
     "data": {
      "text/plain": [
       "array([[0.81649658, 1.88561808, 2.05480467]])"
      ]
     },
     "execution_count": 68,
     "metadata": {},
     "output_type": "execute_result"
    }
   ],
   "source": [
    "np.std(a , axis = 1)      # here axis = 1 means STD( standard daviation ) is along the ROWS (means the answer the array will be onlyy columns not in rows)"
   ]
  },
  {
   "cell_type": "code",
   "execution_count": 67,
   "id": "e477dc91",
   "metadata": {},
   "outputs": [
    {
     "data": {
      "text/plain": [
       "3.3333333333333335"
      ]
     },
     "execution_count": 67,
     "metadata": {},
     "output_type": "execute_result"
    }
   ],
   "source": [
    "np.var(a)         #it will consider (a) to be flattened (works on all the axis).  "
   ]
  },
  {
   "cell_type": "code",
   "execution_count": 69,
   "id": "3f87c95c",
   "metadata": {},
   "outputs": [
    {
     "data": {
      "text/plain": [
       "array([[0., 0., 0.],\n",
       "       [0., 0., 0.],\n",
       "       [0., 0., 0.]])"
      ]
     },
     "execution_count": 69,
     "metadata": {},
     "output_type": "execute_result"
    }
   ],
   "source": [
    "np.var(a,axis = 0)                     #axis = 0 means variance along the column "
   ]
  },
  {
   "cell_type": "code",
   "execution_count": 70,
   "id": "453dcd03",
   "metadata": {},
   "outputs": [
    {
     "data": {
      "text/plain": [
       "array([[0.66666667, 3.55555556, 4.22222222]])"
      ]
     },
     "execution_count": 70,
     "metadata": {},
     "output_type": "execute_result"
    }
   ],
   "source": [
    "np.var(a,axis = 1)                  #axis = 1 means variance along the row."
   ]
  },
  {
   "cell_type": "code",
   "execution_count": 73,
   "id": "a6a4ee6c",
   "metadata": {},
   "outputs": [
    {
     "data": {
      "text/plain": [
       "8"
      ]
     },
     "execution_count": 73,
     "metadata": {},
     "output_type": "execute_result"
    }
   ],
   "source": [
    "np.argmax(a)         ##it will consider (a) to be flattened (works on all the axis). it will gives the index of maximum value."
   ]
  },
  {
   "cell_type": "code",
   "execution_count": 75,
   "id": "10413d20",
   "metadata": {},
   "outputs": [
    {
     "data": {
      "text/plain": [
       "array([[0, 0, 0],\n",
       "       [0, 0, 0],\n",
       "       [0, 0, 0]], dtype=int64)"
      ]
     },
     "execution_count": 75,
     "metadata": {},
     "output_type": "execute_result"
    }
   ],
   "source": [
    "np.argmax(a, axis = 0)              #axis = 0  it will gives the index of maximum values along the column "
   ]
  },
  {
   "cell_type": "code",
   "execution_count": 76,
   "id": "015118e3",
   "metadata": {},
   "outputs": [
    {
     "data": {
      "text/plain": [
       "array([[1, 2, 2]], dtype=int64)"
      ]
     },
     "execution_count": 76,
     "metadata": {},
     "output_type": "execute_result"
    }
   ],
   "source": [
    "np.argmax(a, axis = 1)                        #axis = 0  it will gives the index of maximum values along the ROWS."
   ]
  },
  {
   "cell_type": "markdown",
   "id": "d8ebae7d",
   "metadata": {},
   "source": [
    "## Concatenation\n",
    "#### Concatenate a sequence of arrays along an existing axis.\n",
    "###### Concatenation can also be form by giving it axis.\n",
    "\n",
    "> **Axis = 0** , mean concatenate the matrices <font color='red'>horizontally</font>.\n",
    "\n",
    "> **Axis = 1** , mean concatenate the matrices <span style=\"color:green\">vertically<span>.\n",
    "    \n",
    "> The <font color='red'>length</font> of arrays should be same in <font color='blue'>Concatenation</font>    \n",
    "    \n",
    "> use **one [ ] bracket** for 1-d array.\n",
    "    \n",
    "> use **two [ [  ] ] brackets** for 2-d array.\n",
    "    \n",
    "> use **three[ [ [  ] ] ] brackets** for 3-d array."
   ]
  },
  {
   "cell_type": "code",
   "execution_count": 170,
   "id": "4aed3378",
   "metadata": {},
   "outputs": [
    {
     "data": {
      "text/plain": [
       "array([ 6,  7,  8,  9, 10,  1,  2,  3,  4,  5])"
      ]
     },
     "execution_count": 170,
     "metadata": {},
     "output_type": "execute_result"
    }
   ],
   "source": [
    "A= np.array([1,2,3,4,5])     # it will merge these two arrays in one array\n",
    "B = np.array([6,7,8,9,10])\n",
    "np.concatenate((B,A))"
   ]
  },
  {
   "cell_type": "code",
   "execution_count": 167,
   "id": "5460e15f",
   "metadata": {},
   "outputs": [
    {
     "data": {
      "text/plain": [
       "array([[ 1,  2,  3,  4,  5],\n",
       "       [11, 12, 13, 14, 15],\n",
       "       [ 6,  7,  8,  9, 10],\n",
       "       [16, 17, 18, 19, 20]])"
      ]
     },
     "execution_count": 167,
     "metadata": {},
     "output_type": "execute_result"
    }
   ],
   "source": [
    "C = np.array([[1,2,3,4,5],[11,12,13,14,15]])     # it will merge these two matrices in on array ( 2-d array)\n",
    "D = np.array([[6,7,8,9,10],[16,17,18,19,20]])\n",
    "np.concatenate((C,D))"
   ]
  },
  {
   "cell_type": "code",
   "execution_count": 168,
   "id": "0a0f1180",
   "metadata": {},
   "outputs": [
    {
     "data": {
      "text/plain": [
       "array([[ 1,  2,  3,  4,  5],\n",
       "       [11, 12, 13, 14, 15],\n",
       "       [ 6,  7,  8,  9, 10],\n",
       "       [16, 17, 18, 19, 20]])"
      ]
     },
     "execution_count": 168,
     "metadata": {},
     "output_type": "execute_result"
    }
   ],
   "source": [
    "C = np.array([[1,2,3,4,5],[11,12,13,14,15]])       # it will concatenate the two arrays horizontally (in2-d array)\n",
    "D = np.array([[6,7,8,9,10],[16,17,18,19,20]])\n",
    "np.concatenate((C,D),axis = 0 )"
   ]
  },
  {
   "cell_type": "code",
   "execution_count": 169,
   "id": "5d18efd1",
   "metadata": {},
   "outputs": [
    {
     "data": {
      "text/plain": [
       "array([[ 1,  2,  3,  4,  5,  6,  7,  8,  9, 10],\n",
       "       [11, 12, 13, 14, 15, 16, 17, 18, 19, 20]])"
      ]
     },
     "execution_count": 169,
     "metadata": {},
     "output_type": "execute_result"
    }
   ],
   "source": [
    "C = np.array([[1,2,3,4,5],[11,12,13,14,15]])       # it will concatenate the two arrays vertically ( in2-d array)\n",
    "D = np.array([[6,7,8,9,10],[16,17,18,19,20]]) \n",
    "np.concatenate((C,D),axis = 1 )"
   ]
  },
  {
   "cell_type": "code",
   "execution_count": 171,
   "id": "11431887",
   "metadata": {},
   "outputs": [
    {
     "data": {
      "text/plain": [
       "array([[[ 1,  2,  3,  4,  5],\n",
       "        [11, 12, 13, 14, 15]],\n",
       "\n",
       "       [[ 6,  7,  8,  9, 10],\n",
       "        [16, 17, 18, 19, 20]]])"
      ]
     },
     "execution_count": 171,
     "metadata": {},
     "output_type": "execute_result"
    }
   ],
   "source": [
    "C = np.array([[[1,2,3,4,5],[11,12,13,14,15]]])       # it will concatenate the two arrays horizontally ( in 3-d array)\n",
    "D = np.array([[[6,7,8,9,10],[16,17,18,19,20]]])\n",
    "np.concatenate((C,D),axis = 0 )"
   ]
  },
  {
   "cell_type": "code",
   "execution_count": 172,
   "id": "61223bc7",
   "metadata": {},
   "outputs": [
    {
     "data": {
      "text/plain": [
       "array([[[ 1,  2,  3,  4,  5],\n",
       "        [11, 12, 13, 14, 15],\n",
       "        [ 6,  7,  8,  9, 10],\n",
       "        [16, 17, 18, 19, 20]]])"
      ]
     },
     "execution_count": 172,
     "metadata": {},
     "output_type": "execute_result"
    }
   ],
   "source": [
    "C = np.array([[[1,2,3,4,5],[11,12,13,14,15]]])       # it will concatenate the two arrays vertically ( in 3-d array)\n",
    "D = np.array([[[6,7,8,9,10],[16,17,18,19,20]]])\n",
    "np.concatenate((C,D),axis = 1 )"
   ]
  }
 ],
 "metadata": {
  "celltoolbar": "Raw Cell Format",
  "kernelspec": {
   "display_name": "Python 3 (ipykernel)",
   "language": "python",
   "name": "python3"
  },
  "language_info": {
   "codemirror_mode": {
    "name": "ipython",
    "version": 3
   },
   "file_extension": ".py",
   "mimetype": "text/x-python",
   "name": "python",
   "nbconvert_exporter": "python",
   "pygments_lexer": "ipython3",
   "version": "3.9.13"
  }
 },
 "nbformat": 4,
 "nbformat_minor": 5
}
